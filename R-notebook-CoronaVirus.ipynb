{
 "cells": [
  {
   "cell_type": "code",
   "execution_count": 2,
   "metadata": {},
   "outputs": [
    {
     "name": "stdout",
     "output_type": "stream",
     "text": [
      "package 'readxl' successfully unpacked and MD5 sums checked\n",
      "\n",
      "The downloaded binary packages are in\n",
      "\tC:\\Users\\Bjorn-JosteinSingsta\\AppData\\Local\\Temp\\RtmpErXC8M\\downloaded_packages\n"
     ]
    },
    {
     "ename": "ERROR",
     "evalue": "Error in !install.packages(\"readxl\"): invalid argument type\n",
     "output_type": "error",
     "traceback": [
      "Error in !install.packages(\"readxl\"): invalid argument type\nTraceback:\n"
     ]
    }
   ],
   "source": [
    "!install.packages(\"readxl\")"
   ]
  },
  {
   "cell_type": "code",
   "execution_count": 34,
   "metadata": {},
   "outputs": [
    {
     "name": "stderr",
     "output_type": "stream",
     "text": [
      "Warning message:\n",
      "\"package 'ggplot2' was built under R version 3.6.2\""
     ]
    }
   ],
   "source": [
    "library(readxl)\n",
    "library(ggplot2)"
   ]
  },
  {
   "cell_type": "code",
   "execution_count": 18,
   "metadata": {},
   "outputs": [],
   "source": [
    "data <- read_excel(\"Tron_part_fakedata_0502.xlsx\")"
   ]
  },
  {
   "cell_type": "code",
   "execution_count": 3,
   "metadata": {},
   "outputs": [],
   "source": [
    "corona <- read.csv(\"2019_nCoV_data.csv\")"
   ]
  },
  {
   "cell_type": "code",
   "execution_count": 5,
   "metadata": {},
   "outputs": [
    {
     "data": {
      "text/html": [
       "<table>\n",
       "<thead><tr><th scope=col>Sno</th><th scope=col>Province.State</th><th scope=col>Country</th><th scope=col>Last.Update</th><th scope=col>Confirmed</th><th scope=col>Deaths</th><th scope=col>Recovered</th></tr></thead>\n",
       "<tbody>\n",
       "\t<tr><td>1              </td><td>Anhui          </td><td>China          </td><td>1/22/2020 12:00</td><td> 1             </td><td>0              </td><td>0              </td></tr>\n",
       "\t<tr><td>2              </td><td>Beijing        </td><td>China          </td><td>1/22/2020 12:00</td><td>14             </td><td>0              </td><td>0              </td></tr>\n",
       "\t<tr><td>3              </td><td>Chongqing      </td><td>China          </td><td>1/22/2020 12:00</td><td> 6             </td><td>0              </td><td>0              </td></tr>\n",
       "\t<tr><td>4              </td><td>Fujian         </td><td>China          </td><td>1/22/2020 12:00</td><td> 1             </td><td>0              </td><td>0              </td></tr>\n",
       "\t<tr><td>5              </td><td>Gansu          </td><td>China          </td><td>1/22/2020 12:00</td><td> 0             </td><td>0              </td><td>0              </td></tr>\n",
       "\t<tr><td>6              </td><td>Guangdong      </td><td>China          </td><td>1/22/2020 12:00</td><td>26             </td><td>0              </td><td>0              </td></tr>\n",
       "</tbody>\n",
       "</table>\n"
      ],
      "text/latex": [
       "\\begin{tabular}{r|lllllll}\n",
       " Sno & Province.State & Country & Last.Update & Confirmed & Deaths & Recovered\\\\\n",
       "\\hline\n",
       "\t 1               & Anhui           & China           & 1/22/2020 12:00 &  1              & 0               & 0              \\\\\n",
       "\t 2               & Beijing         & China           & 1/22/2020 12:00 & 14              & 0               & 0              \\\\\n",
       "\t 3               & Chongqing       & China           & 1/22/2020 12:00 &  6              & 0               & 0              \\\\\n",
       "\t 4               & Fujian          & China           & 1/22/2020 12:00 &  1              & 0               & 0              \\\\\n",
       "\t 5               & Gansu           & China           & 1/22/2020 12:00 &  0              & 0               & 0              \\\\\n",
       "\t 6               & Guangdong       & China           & 1/22/2020 12:00 & 26              & 0               & 0              \\\\\n",
       "\\end{tabular}\n"
      ],
      "text/markdown": [
       "\n",
       "| Sno | Province.State | Country | Last.Update | Confirmed | Deaths | Recovered |\n",
       "|---|---|---|---|---|---|---|\n",
       "| 1               | Anhui           | China           | 1/22/2020 12:00 |  1              | 0               | 0               |\n",
       "| 2               | Beijing         | China           | 1/22/2020 12:00 | 14              | 0               | 0               |\n",
       "| 3               | Chongqing       | China           | 1/22/2020 12:00 |  6              | 0               | 0               |\n",
       "| 4               | Fujian          | China           | 1/22/2020 12:00 |  1              | 0               | 0               |\n",
       "| 5               | Gansu           | China           | 1/22/2020 12:00 |  0              | 0               | 0               |\n",
       "| 6               | Guangdong       | China           | 1/22/2020 12:00 | 26              | 0               | 0               |\n",
       "\n"
      ],
      "text/plain": [
       "  Sno Province.State Country Last.Update     Confirmed Deaths Recovered\n",
       "1 1   Anhui          China   1/22/2020 12:00  1        0      0        \n",
       "2 2   Beijing        China   1/22/2020 12:00 14        0      0        \n",
       "3 3   Chongqing      China   1/22/2020 12:00  6        0      0        \n",
       "4 4   Fujian         China   1/22/2020 12:00  1        0      0        \n",
       "5 5   Gansu          China   1/22/2020 12:00  0        0      0        \n",
       "6 6   Guangdong      China   1/22/2020 12:00 26        0      0        "
      ]
     },
     "metadata": {},
     "output_type": "display_data"
    }
   ],
   "source": [
    "head(corona)"
   ]
  },
  {
   "cell_type": "code",
   "execution_count": 32,
   "metadata": {},
   "outputs": [
    {
     "data": {
      "text/html": [
       "<table>\n",
       "<thead><tr><th scope=col>Province.State</th></tr></thead>\n",
       "<tbody>\n",
       "\t<tr><td>Anhui    </td></tr>\n",
       "\t<tr><td>Beijing  </td></tr>\n",
       "\t<tr><td>Chongqing</td></tr>\n",
       "\t<tr><td>Fujian   </td></tr>\n",
       "\t<tr><td>Gansu    </td></tr>\n",
       "\t<tr><td>Guangdong</td></tr>\n",
       "</tbody>\n",
       "</table>\n"
      ],
      "text/latex": [
       "\\begin{tabular}{r|l}\n",
       " Province.State\\\\\n",
       "\\hline\n",
       "\t Anhui    \\\\\n",
       "\t Beijing  \\\\\n",
       "\t Chongqing\\\\\n",
       "\t Fujian   \\\\\n",
       "\t Gansu    \\\\\n",
       "\t Guangdong\\\\\n",
       "\\end{tabular}\n"
      ],
      "text/markdown": [
       "\n",
       "| Province.State |\n",
       "|---|\n",
       "| Anhui     |\n",
       "| Beijing   |\n",
       "| Chongqing |\n",
       "| Fujian    |\n",
       "| Gansu     |\n",
       "| Guangdong |\n",
       "\n"
      ],
      "text/plain": [
       "  Province.State\n",
       "1 Anhui         \n",
       "2 Beijing       \n",
       "3 Chongqing     \n",
       "4 Fujian        \n",
       "5 Gansu         \n",
       "6 Guangdong     "
      ]
     },
     "metadata": {},
     "output_type": "display_data"
    }
   ],
   "source": [
    "head(corona['Province.State'])"
   ]
  },
  {
   "cell_type": "code",
   "execution_count": 57,
   "metadata": {},
   "outputs": [
    {
     "data": {
      "image/png": "[encoded data removed]",
      "text/plain": [
       "plot without title"
      ]
     },
     "metadata": {},
     "output_type": "display_data"
    }
   ],
   "source": [
    "ggplot(corona, aes(x=Country,y=Confirmed))+geom_point(aes(fill=Deaths, colour=Deaths))+theme_classic()+labs(x='Countries')\n"
   ]
  },
  {
   "cell_type": "code",
   "execution_count": null,
   "metadata": {},
   "outputs": [],
   "source": []
  }
 ],
 "metadata": {
  "hide_input": false,
  "kernelspec": {
   "display_name": "R",
   "language": "R",
   "name": "ir"
  },
  "language_info": {
   "codemirror_mode": "r",
   "file_extension": ".r",
   "mimetype": "text/x-r-source",
   "name": "R",
   "pygments_lexer": "r",
   "version": "3.6.1"
  },
  "toc": {
   "base_numbering": 1,
   "nav_menu": {},
   "number_sections": true,
   "sideBar": true,
   "skip_h1_title": false,
   "title_cell": "Table of Contents",
   "title_sidebar": "Contents",
   "toc_cell": false,
   "toc_position": {},
   "toc_section_display": true,
   "toc_window_display": false
  }
 },
 "nbformat": 4,
 "nbformat_minor": 4
}
